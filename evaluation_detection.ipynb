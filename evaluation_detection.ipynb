{
 "cells": [
  {
   "cell_type": "code",
   "execution_count": 3,
   "metadata": {},
   "outputs": [],
   "source": [
    "import numpy as np\n",
    "predictionArr = []\n",
    "groudTruthArr = []\n",
    "f= open(\"F:\\\\HS Weingarten Sem 2\\\\Embedded Project\\\\traffic-sign-recognition\\\\output.txt\",\"r\")\n",
    "while True:\n",
    "    # read line\n",
    "    line = f.readline()\n",
    "    # in python 2, print line\n",
    "    # in python 3\n",
    "    predictionArr.append(line)\n",
    "    #print(line)\n",
    "    # check if line is not empty\n",
    "    if not line:\n",
    "        break\n",
    "f.close()\n",
    "#print predictionArr[0]\n",
    "\n",
    "f= open(\"F:\\\\HS Weingarten Sem 2\\\\Embedded Project\\\\traffic-sign-recognition\\\\groundTruth.txt\",\"r\")\n",
    "while True:\n",
    "    # read line\n",
    "    line = f.readline()\n",
    "    # in python 2, print line\n",
    "    # in python 3\n",
    "    groudTruthArr.append(line)\n",
    "    #print(line)\n",
    "    # check if line is not empty\n",
    "    if not line:\n",
    "        break\n",
    "f.close()\n",
    "#print groudTruthArr[0]"
   ]
  },
  {
   "cell_type": "code",
   "execution_count": 4,
   "metadata": {},
   "outputs": [],
   "source": [
    "bbox = []\n",
    "grtbox = []\n",
    "predicted = []\n",
    "groundTruth = []\n",
    "#print len(predictionArr)\n",
    "#print len(groudTruthArr)\n",
    "\n",
    "for i in range(len(predictionArr)):\n",
    "    data = predictionArr[i].split(\";\")\n",
    "    image_id = data[0].split(\".\")\n",
    "    data[0] = image_id[0]\n",
    "    bbox.append(data)\n",
    "    \n",
    "\n",
    "for i in range(len(groudTruthArr)):\n",
    "    data = groudTruthArr[i].split(\";\")\n",
    "    image_id = data[0].split(\".\")\n",
    "    data[0] = image_id[0]\n",
    "    grtbox.append(data)\n",
    "    \n",
    "for i in range(len(bbox)):\n",
    "    for j in range(1,len(bbox[i])):\n",
    "        bbox[i][j] = int(bbox[i][j])\n",
    "    predicted.append(bbox[i])\n",
    "for i in range(len(grtbox)): \n",
    "    for j in range(1,len(grtbox[i])):\n",
    "        grtbox[i][j] = int(grtbox[i][j]) \n",
    "    groundTruth.append(grtbox[i])\n",
    "\n",
    "#gtbox xmin, ymin, xmax, ymax\n",
    "#bbox ymin, ymax, xmin, xmax"
   ]
  },
  {
   "cell_type": "code",
   "execution_count": 5,
   "metadata": {},
   "outputs": [],
   "source": [
    "def intersection(bbgt, bb):\n",
    "    #print bbgt\n",
    "    #print bb\n",
    "    # determine the (x, y)-coordinates of the intersection rectangle\n",
    "    ixmin = max(bbgt[1], bb[1])\n",
    "    iymin = max(bbgt[2], bb[2])\n",
    "    ixmax = min(bbgt[3], bb[3])\n",
    "    iymax = min(bbgt[4], bb[4])\n",
    "    \n",
    "    # compute the area of intersection rectangle\n",
    "    iw = max(ixmax - ixmin, 0)\n",
    "    ih = max(iymax - iymin, 0)\n",
    "    intersArea = iw * ih\n",
    "    \n",
    "    return intersArea"
   ]
  },
  {
   "cell_type": "code",
   "execution_count": 9,
   "metadata": {},
   "outputs": [],
   "source": [
    "def union(bbgt, bb, intersArea):\n",
    "    # compute the area of both the prediction and ground-truth rectangles\n",
    "    boxgtArea = (bbgt[3] - bbgt[1]) * (bbgt[4] - bbgt[2])\n",
    "    boxArea = (bb[3] - bb[1]) * (bb[4] - bb[2])\n",
    "    unionArea = boxgtArea + boxArea - intersArea\n",
    "    return unionArea\n"
   ]
  },
  {
   "cell_type": "code",
   "execution_count": 10,
   "metadata": {},
   "outputs": [
    {
     "ename": "IndentationError",
     "evalue": "unexpected indent (<ipython-input-10-b1f92821a0e0>, line 7)",
     "output_type": "error",
     "traceback": [
      "\u001b[1;36m  File \u001b[1;32m\"<ipython-input-10-b1f92821a0e0>\"\u001b[1;36m, line \u001b[1;32m7\u001b[0m\n\u001b[1;33m    \"\"\"for i in range(len(bbgt)-1):\u001b[0m\n\u001b[1;37m    ^\u001b[0m\n\u001b[1;31mIndentationError\u001b[0m\u001b[1;31m:\u001b[0m unexpected indent\n"
     ]
    }
   ],
   "source": [
    "# Returns the intersection over union of two rectangles, a and b, where each is an array [x,y,w,h]\n",
    "#def compute_iou(bbgt, bb,TP,result_mat):\n",
    "    #overlaps = np.zeros(len(bbgt))\n",
    "    #print bbgt\n",
    "    #print bb\n",
    "    #for i,gtBbox in enumerate(bbgt):\n",
    "    \"\"\"for i in range(len(bbgt)-1):\n",
    "        if int(bbgt[i][0])==int(bb[0]):\n",
    "            inters = float(intersection(bbgt[i], bb))\n",
    "            uni = union(bbgt[i], bb, inters)\n",
    "            iou = inters/uni\n",
    "            if iou>0.7:\n",
    "                result_mat[0] = int(bb[0])\n",
    "                result_mat[1] = 1\n",
    "                result_mat[2] = 0\n",
    "                TP += 1\n",
    "                break\n",
    "            else:\n",
    "                result_mat[0] = int(bb[0])\n",
    "                result_mat[1] = 0\n",
    "                result_mat[2] = 1\n",
    "    #return ioumax, jmax\n",
    "    #return ioumax,TP\n",
    "#print ioumax\n",
    "#print jmax"
   ]
  },
  {
   "cell_type": "code",
   "execution_count": 11,
   "metadata": {},
   "outputs": [],
   "source": [
    "#TP = 0\n",
    "#result_mat = np.empty((len(predicted)-1,3))\n",
    "#result_mat = np.zeros((len(predicted)-1,3))\n",
    "#for i in range(len(predicted)-1):\n",
    "    #ioumax,TP = compute_iou(groundTruth,predicted[i],TP,result_mat[i])\n",
    "#print TP\n",
    "#print result_mat\n",
    "#result_mat2 = np.copy(result_mat)\n",
    "#result_mat2[~np.all(result_mat2 == 0, axis=0)]\n",
    "#print result_mat"
   ]
  },
  {
   "cell_type": "code",
   "execution_count": 13,
   "metadata": {},
   "outputs": [
    {
     "name": "stdout",
     "output_type": "stream",
     "text": [
      "[[0. 0. 0. 0. 0.]\n",
      " [0. 0. 0. 0. 0.]\n",
      " [0. 0. 0. 0. 0.]\n",
      " ...\n",
      " [0. 0. 0. 0. 0.]\n",
      " [0. 0. 0. 0. 0.]\n",
      " [0. 0. 0. 0. 0.]]\n"
     ]
    }
   ],
   "source": [
    "cumsumTP = np.cumsum(result_mat[:,1],axis=0)\n",
    "#print cumsumTP\n",
    "result_mat2 = np.column_stack((result_mat,cumsumTP))\n",
    "cumsumFP = np.cumsum(result_mat[:,2],axis=0)\n",
    "#print cumsumFP\n",
    "final_mat = np.column_stack((result_mat2,cumsumFP))\n",
    "#np.append(result_mat,cumsumTP,axis=1)\n",
    "print (final_mat)"
   ]
  },
  {
   "cell_type": "code",
   "execution_count": 15,
   "metadata": {},
   "outputs": [
    {
     "name": "stdout",
     "output_type": "stream",
     "text": [
      "[nan  0.]\n"
     ]
    },
    {
     "name": "stderr",
     "output_type": "stream",
     "text": [
      "C:\\Anaconda3\\envs\\CV\\lib\\site-packages\\ipykernel_launcher.py:6: RuntimeWarning: invalid value encountered in double_scalars\n",
      "  \n"
     ]
    }
   ],
   "source": [
    "prec = np.zeros((final_mat.shape[0],1))\n",
    "recall = np.zeros((final_mat.shape[0],1))\n",
    "for i in range(final_mat.shape[0]):\n",
    "    cumTP = final_mat[i][3]\n",
    "    cumFP = final_mat[i][4]\n",
    "    prec[i] = cumTP/(cumTP+cumFP)\n",
    "    recall[i] = cumTP/len(groundTruth)\n",
    "#print prec.shape\n",
    "#print recall.shape\n",
    "prec_recall = np.column_stack((prec,recall))\n",
    "prec_recall[np.argsort(prec_recall[:, 1])]\n",
    "print (prec_recall[0])\n",
    "final_matrix = np.column_stack((final_mat,prec_recall))"
   ]
  },
  {
   "cell_type": "code",
   "execution_count": 16,
   "metadata": {},
   "outputs": [],
   "source": [
    "def plot_precision_recall_omkar(prec, recall):\n",
    "    import matplotlib.pyplot as plt\n",
    "    plt.plot(recall, prec)\n",
    "    plt.xlabel('recall')\n",
    "    plt.ylabel('precision')\n",
    "    plt.show()"
   ]
  },
  {
   "cell_type": "code",
   "execution_count": 17,
   "metadata": {},
   "outputs": [
    {
     "data": {
      "image/png": "[encoded data removed]",
      "text/plain": [
       "<Figure size 432x288 with 1 Axes>"
      ]
     },
     "metadata": {
      "needs_background": "light"
     },
     "output_type": "display_data"
    }
   ],
   "source": [
    "precision = np.zeros((len(prec_recall),1))\n",
    "recall_final = np.zeros((len(prec_recall),1))\n",
    "for i in range(len(prec_recall)):\n",
    "    precision[i] = prec_recall[i][0]\n",
    "    recall_final[i] = prec_recall[i][1]\n",
    "#print recall_final\n",
    "plot_precision_recall_omkar(precision,recall_final)"
   ]
  },
  {
   "cell_type": "code",
   "execution_count": 340,
   "metadata": {},
   "outputs": [],
   "source": [
    "def plot_precision_recall(prec, recall):\n",
    "    import matplotlib.pyplot as plt\n",
    "    # first append sentinel values at the end\n",
    "    mrec = np.concatenate((recall, [recall[-1]]))\n",
    "    mpre = np.concatenate(([prec[0]], prec))\n",
    "    # Plot Precision-Recall curve\n",
    "    plt.clf()\n",
    "    plt.plot(mrec, mpre, lw=2, color='navy',\n",
    "             label='Precision-Recall curve')\n",
    "    plt.xlabel('Recall')\n",
    "    plt.ylabel('Precision')\n",
    "    plt.ylim([0.0, 1.05])\n",
    "    plt.xlim([0.0, 1.0])\n",
    "    #plt.title('Precision-Recall: AP={0:0.2f}'.format(ap))\n",
    "    plt.legend(loc=\"lower left\")\n",
    "    plt.show()"
   ]
  },
  {
   "cell_type": "code",
   "execution_count": 341,
   "metadata": {},
   "outputs": [
    {
     "data": {
      "image/png": "[encoded data removed]",
      "text/plain": [
       "<Figure size 432x288 with 1 Axes>"
      ]
     },
     "metadata": {
      "needs_background": "light"
     },
     "output_type": "display_data"
    }
   ],
   "source": [
    "#ap = 0.93\n",
    "plot_precision_recall(precision, recall_final)"
   ]
  },
  {
   "cell_type": "code",
   "execution_count": 18,
   "metadata": {},
   "outputs": [],
   "source": [
    "def voc_ap(rec, prec, use_07_metric=False):\n",
    "    \"\"\" ap = voc_ap(rec, prec, [use_07_metric])\n",
    "    Compute VOC AP given precision and recall.\n",
    "    If use_07_metric is true, uses the\n",
    "    VOC 07 11 point method (default:False).\n",
    "    \"\"\"\n",
    "    if use_07_metric:\n",
    "        # 11 point metric\n",
    "        # http://host.robots.ox.ac.uk/pascal/VOC/pubs/everingham10.pdf (page 313)\n",
    "        \n",
    "        ap = 0.\n",
    "        for t in np.arange(0., 1.1, 0.1):\n",
    "            if np.sum(rec >= t) == 0:\n",
    "                p = 0\n",
    "            else:\n",
    "                p = np.max(prec[rec >= t])\n",
    "            ap = ap + p / 11.\n",
    "    else:\n",
    "        # correct AP calculation (from VOC 2010 challenge)\n",
    "        # http://host.robots.ox.ac.uk/pascal/VOC/voc2012/devkit_doc.pdf (page 12)\n",
    "        \n",
    "        # first append sentinel values at the end\n",
    "        mrec = np.concatenate((rec))\n",
    "        mpre = np.concatenate((prec))\n",
    "\n",
    "        # compute the precision envelope\n",
    "        for i in range(mpre.size - 1, 0, -1):\n",
    "            mpre[i - 1] = np.maximum(mpre[i - 1], mpre[i])\n",
    "\n",
    "        # to calculate area under PR curve, look for points\n",
    "        # where X axis (recall) changes value\n",
    "        i = np.where(mrec[1:] != mrec[:-1])[0]\n",
    "\n",
    "        # and sum (\\Delta recall) * prec\n",
    "        ap = np.sum((mrec[i + 1] - mrec[i]) * mpre[i + 1])\n",
    "    return ap"
   ]
  },
  {
   "cell_type": "code",
   "execution_count": 343,
   "metadata": {},
   "outputs": [
    {
     "data": {
      "text/plain": [
       "0.6596969976505913"
      ]
     },
     "execution_count": 343,
     "metadata": {},
     "output_type": "execute_result"
    }
   ],
   "source": [
    "voc_ap(recall_final,precision)"
   ]
  },
  {
   "cell_type": "code",
   "execution_count": null,
   "metadata": {},
   "outputs": [],
   "source": []
  }
 ],
 "metadata": {
  "kernelspec": {
   "display_name": "Python 3",
   "language": "python",
   "name": "python3"
  },
  "language_info": {
   "codemirror_mode": {
    "name": "ipython",
    "version": 3
   },
   "file_extension": ".py",
   "mimetype": "text/x-python",
   "name": "python",
   "nbconvert_exporter": "python",
   "pygments_lexer": "ipython3",
   "version": "3.6.10"
  }
 },
 "nbformat": 4,
 "nbformat_minor": 2
}
